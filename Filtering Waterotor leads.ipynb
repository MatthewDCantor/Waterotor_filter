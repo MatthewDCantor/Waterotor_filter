{
 "cells": [
  {
   "cell_type": "markdown",
   "metadata": {},
   "source": [
    "## Waterotor XCEL filter\n",
    "\n",
    "The purpose of this program is to take an excel sheet of all the emails sent to Waterotor and filter it leaving only the emails interested in investing in the company. This is done using the pandas, numpy, and tkinter libaries."
   ]
  },
  {
   "cell_type": "markdown",
   "metadata": {},
   "source": [
    "## 1. Upload Excel File\n",
    "\n",
    "Run the module below. You will be prompted to select an excel file. "
   ]
  },
  {
   "cell_type": "code",
   "execution_count": 81,
   "metadata": {},
   "outputs": [
    {
     "name": "stdout",
     "output_type": "stream",
     "text": [
      "Excel file uploaded successfully!\n",
      "/Users/shmeep/Downloads/waterotorenergytechnologies-flamingo-inbound-2020-08-25 (1).xlsx\n"
     ]
    }
   ],
   "source": [
    "import tkinter as tk\n",
    "from tkinter import filedialog\n",
    "import pandas as pd\n",
    "import numpy as np\n",
    "\n",
    "\n",
    "\n",
    "\n",
    "# Creating prompt for user to select file using tkinter package.\n",
    "root = tk.Tk()\n",
    "root.withdraw()\n",
    "file_path = filedialog.askopenfilename()\n",
    "\n",
    "# Allowable excel file types for pandas dataframe.\n",
    "file_types_excel = ['xls','xlsx','xlsm','xlsb','odf']\n",
    "\n",
    "# Check if file is an excel file or an csv.\n",
    "if file_path[-3:] in file_types_excel or file_path[-4:] in file_types_excel:\n",
    "    df = pd.read_excel(file_path)\n",
    "    print('Excel file uploaded successfully!')\n",
    " \n",
    "elif file_path[-3:] == 'csv':\n",
    "    df = pd.read_csv(file_path, low_memory = False)\n",
    "    print('CSV file uploaded successfully!')\n",
    "    \n",
    "else:\n",
    "    print(\"File type not supported. xls, xlsx, xlsm, xlsb, csv, and odf files are accepted.\")\n",
    "\n",
    "print(file_path)"
   ]
  },
  {
   "cell_type": "markdown",
   "metadata": {},
   "source": [
    "## 2. Input columns \n",
    "\n",
    "Input the columns that you would like to filter, one at a time, in the cell below. Enter end when finished."
   ]
  },
  {
   "cell_type": "code",
   "execution_count": 61,
   "metadata": {},
   "outputs": [
    {
     "name": "stdout",
     "output_type": "stream",
     "text": [
      "Enter column marker:Message Type\n",
      "Enter column marker:your-message\n",
      "Enter column marker:referer-page\n",
      "Enter column marker:end\n",
      "Columns to be transformed:['Message Type', 'your-message', 'referer-page']\n"
     ]
    }
   ],
   "source": [
    "selected_col = [] \n",
    "cur_in = ''\n",
    "\n",
    "while True:\n",
    "    cur_in = input('Enter column marker:')\n",
    "    if cur_in == 'end':\n",
    "        break\n",
    "    else:\n",
    "        selected_col.append(cur_in)\n",
    "\n",
    "print(\"Columns to be transformed:{}\".format(selected_col))\n",
    "\n"
   ]
  },
  {
   "cell_type": "markdown",
   "metadata": {},
   "source": [
    "## 3. Filter Data \n",
    "\n",
    "Run the module below to filter the data leaving only emails which intend to invest. This is done by searching for the keywords ('Investor Inquiries', 'invest', '//waterotor.com/investors/') and filtering spam emails. "
   ]
  },
  {
   "cell_type": "code",
   "execution_count": 91,
   "metadata": {},
   "outputs": [],
   "source": [
    "# Function to check in current column is in the columns to be found.\n",
    "def data_bool(columns_list, column):\n",
    "    \n",
    "    for i in range(len(columns_list)):\n",
    "        if columns_list[i] in column:\n",
    "            return True\n",
    "    \n",
    "    return False\n",
    "\n",
    "def find_investors(df_cell):\n",
    "    \n",
    "    key_words = ['Investor Inquiries', 'invest', '//waterotor.com/investors/']\n",
    "    for i in range(len(key_words)):\n",
    "        if key_words[i] in df_cell:\n",
    "            return True\n",
    "\n",
    "    return False\n",
    "\n",
    "\n",
    "\n",
    "new_df = pd.DataFrame([[np.NaN for i in range(df.shape[1])]], columns = df.columns) \n",
    "\n",
    "\n",
    "\n",
    "\n",
    "for i in range(df.shape[0]):\n",
    "    for col in df.columns:\n",
    "        if data_bool(selected_col,col):\n",
    "            try:\n",
    "                if find_investors(df.at[i,col]):\n",
    "                   new_df = new_df.append(df.iloc[[i]], ignore_index=True)\n",
    "            except:\n",
    "                pass\n",
    "\n",
    "filter_words = ['file_links','dating','My Biz Explained']\n",
    "for i in range(new_df.shape[0]):\n",
    "    for col in new_df.columns:\n",
    "        try:\n",
    "            if data_bool(filter_words, new_df.at[i,col]):\n",
    "                new_df = new_df.drop(i)\n",
    "        except:\n",
    "            pass\n",
    "           \n",
    "new_df = new_df.drop(0)\n",
    " \n",
    "new_df.to_excel(\"filtered_dataframe.xlsx\")\n",
    "\n",
    "            \n",
    "            \n",
    "            \n"
   ]
  },
  {
   "cell_type": "code",
   "execution_count": null,
   "metadata": {},
   "outputs": [],
   "source": [
    "\n"
   ]
  },
  {
   "cell_type": "code",
   "execution_count": null,
   "metadata": {},
   "outputs": [],
   "source": []
  }
 ],
 "metadata": {
  "kernelspec": {
   "display_name": "Python 3",
   "language": "python",
   "name": "python3"
  },
  "language_info": {
   "codemirror_mode": {
    "name": "ipython",
    "version": 3
   },
   "file_extension": ".py",
   "mimetype": "text/x-python",
   "name": "python",
   "nbconvert_exporter": "python",
   "pygments_lexer": "ipython3",
   "version": "3.7.6"
  }
 },
 "nbformat": 4,
 "nbformat_minor": 4
}
